{
 "cells": [
  {
   "cell_type": "markdown",
   "metadata": {},
   "source": [
    "# Self-Driving Car Engineer Nanodegree\n",
    "\n",
    "## Deep Learning\n",
    "\n",
    "## Project: Build a Traffic Sign Recognition Classifier\n"
   ]
  },
  {
   "cell_type": "markdown",
   "metadata": {},
   "source": [
    "---\n",
    "## Step 0: Load The Data"
   ]
  },
  {
   "cell_type": "code",
   "execution_count": 229,
   "metadata": {},
   "outputs": [
    {
     "data": {
      "text/plain": [
       "34799"
      ]
     },
     "execution_count": 229,
     "metadata": {},
     "output_type": "execute_result"
    }
   ],
   "source": [
    "# Load pickled data\n",
    "import pickle\n",
    "\n",
    "# TODO: Fill this in based on where you saved the training and testing data\n",
    "\n",
    "training_file = 'traffic-signs-data/train.p'\n",
    "validation_file = 'traffic-signs-data/valid.p'\n",
    "testing_file = 'traffic-signs-data/test.p'\n",
    "\n",
    "with open(training_file, mode='rb') as f:\n",
    "    train = pickle.load(f)\n",
    "with open(validation_file, mode='rb') as f:\n",
    "    valid = pickle.load(f)\n",
    "with open(testing_file, mode='rb') as f:\n",
    "    test = pickle.load(f)\n",
    "    \n",
    "X_train, y_train = train['features'], train['labels']\n",
    "X_valid, y_valid = valid['features'], valid['labels']\n",
    "X_test, y_test = test['features'], test['labels']\n",
    "len(y_train)"
   ]
  },
  {
   "cell_type": "markdown",
   "metadata": {},
   "source": [
    "---\n",
    "\n",
    "## Step 1: Dataset Summary & Exploration\n",
    "\n"
   ]
  },
  {
   "cell_type": "markdown",
   "metadata": {},
   "source": [
    "### Provide a Basic Summary of the Data Set Using Python, Numpy and/or Pandas"
   ]
  },
  {
   "cell_type": "code",
   "execution_count": 263,
   "metadata": {},
   "outputs": [
    {
     "name": "stdout",
     "output_type": "stream",
     "text": [
      "Number of training examples = 34799\n",
      "Number of validation examples = 4410\n",
      "Number of testing examples = 12630\n",
      "Image data shape = (32, 32, 3)\n",
      "Number of classes = 43\n"
     ]
    }
   ],
   "source": [
    "import numpy as np\n",
    "\n",
    "### Replace each question mark with the appropriate value. \n",
    "### Use python, pandas or numpy methods rather than hard coding the results\n",
    "\n",
    "# TODO: Number of training examples\n",
    "n_train = len(y_train)\n",
    "\n",
    "# TODO: Number of validation examples\n",
    "n_validation = len(y_valid)\n",
    "\n",
    "# TODO: Number of testing examples.\n",
    "n_test = len(y_test)\n",
    "\n",
    "# TODO: What's the shape of an traffic sign image?\n",
    "image_shape = np.shape(X_train[0])\n",
    "\n",
    "# TODO: How many unique classes/labels there are in the dataset.\n",
    "n_classes = len(set(y_train))\n",
    "\n",
    "print(\"Number of training examples =\", n_train)\n",
    "print(\"Number of validation examples =\", n_validation)\n",
    "print(\"Number of testing examples =\", n_test)\n",
    "print(\"Image data shape =\", image_shape)\n",
    "print(\"Number of classes =\", n_classes)"
   ]
  },
  {
   "cell_type": "markdown",
   "metadata": {},
   "source": [
    "### Include an exploratory visualization of the dataset"
   ]
  },
  {
   "cell_type": "markdown",
   "metadata": {},
   "source": [
    "Visualizing the German Traffic Signs Dataset using the pickled file(s). "
   ]
  },
  {
   "cell_type": "code",
   "execution_count": 264,
   "metadata": {},
   "outputs": [
    {
     "name": "stderr",
     "output_type": "stream",
     "text": [
      "Clipping input data to the valid range for imshow with RGB data ([0..1] for floats or [0..255] for integers).\n"
     ]
    },
    {
     "name": "stdout",
     "output_type": "stream",
     "text": [
      "Plotting a random image of class  14 ( Stop )\n"
     ]
    },
    {
     "data": {
      "image/png": "[encoded data removed]",
      "text/plain": [
       "<Figure size 72x72 with 1 Axes>"
      ]
     },
     "metadata": {
      "needs_background": "light"
     },
     "output_type": "display_data"
    }
   ],
   "source": [
    "### Data exploration visualization code goes here.\n",
    "import random\n",
    "import matplotlib.pyplot as plt\n",
    "import csv\n",
    "# Visualizations will be shown in the notebook.\n",
    "%matplotlib inline\n",
    "\n",
    "\n",
    "with open('signnames.csv', mode='r') as infile:\n",
    "    reader = csv.reader(infile,)\n",
    "    sign_dict = {rows[0]:rows[1] for rows in reader if len(rows) == 2}    \n",
    "    \n",
    "index = random.randint(0, len(X_train))\n",
    "image = X_train[index].squeeze()\n",
    "\n",
    "plt.figure(figsize=(1,1))\n",
    "plt.imshow(image)\n",
    "print('Plotting a random image of class ', y_train[index], '(', sign_dict[str(y_train[index])], ')')\n",
    "\n"
   ]
  },
  {
   "cell_type": "code",
   "execution_count": 268,
   "metadata": {},
   "outputs": [
    {
     "name": "stdout",
     "output_type": "stream",
     "text": [
      "(32, 32, 3)\n"
     ]
    }
   ],
   "source": [
    "print(X_train[index].shape)"
   ]
  },
  {
   "cell_type": "code",
   "execution_count": 269,
   "metadata": {},
   "outputs": [
    {
     "name": "stdout",
     "output_type": "stream",
     "text": [
      "Count of the classes in the training and test set:\n"
     ]
    },
    {
     "data": {
      "text/plain": [
       "Text(0.5, 1.0, 'Test set')"
      ]
     },
     "execution_count": 269,
     "metadata": {},
     "output_type": "execute_result"
    },
    {
     "data": {
      "image/png": "[encoded data removed]",
      "text/plain": [
       "<Figure size 720x360 with 2 Axes>"
      ]
     },
     "metadata": {
      "needs_background": "light"
     },
     "output_type": "display_data"
    }
   ],
   "source": [
    "class_count_train = []\n",
    "class_count_test = []\n",
    "for i in range(0, n_classes):\n",
    "    class_count_train.append(list(y_train).count(i))\n",
    "    class_count_test.append(list(y_test).count(i))\n",
    "\n",
    "print('Count of the classes in the training and test set:')\n",
    "plt.figure(figsize=(10,5))\n",
    "plt.subplot(1, 2, 1)\n",
    "plt.bar(range(0, n_classes), class_count_train)\n",
    "plt.title('Training set')\n",
    "plt.subplot(1, 2, 2)\n",
    "plt.bar(range(0, n_classes), class_count_test)\n",
    "plt.title('Test set')"
   ]
  },
  {
   "cell_type": "markdown",
   "metadata": {},
   "source": [
    "----\n",
    "\n",
    "## Step 2: Design and Test a Model Architecture\n",
    "\n",
    "Modified LeNet"
   ]
  },
  {
   "cell_type": "markdown",
   "metadata": {},
   "source": [
    "### Pre-process the Data Set (normalization, grayscale, etc.)"
   ]
  },
  {
   "cell_type": "markdown",
   "metadata": {},
   "source": [
    "Minimally, the image data should be normalized so that the data has mean zero and equal variance. For image data, `(pixel - 128)/ 128` is a quick way to approximately normalize the data and can be used in this project. \n",
    "\n"
   ]
  },
  {
   "cell_type": "code",
   "execution_count": 270,
   "metadata": {},
   "outputs": [],
   "source": [
    "import numpy as np\n",
    "from sklearn.utils import shuffle\n",
    "\n",
    "### Preprocess the data here. It is required to normalize the data. Other preprocessing steps could include \n",
    "### converting to grayscale, etc.\n",
    "### Feel free to use as many code cells as needed.\n",
    "\n",
    "# incase this cell is run multiple times\n",
    "X_train, y_train = train['features'], train['labels']\n",
    "X_valid, y_valid = valid['features'], valid['labels']\n",
    "X_test, y_test = test['features'], test['labels']\n",
    "\n",
    "# normalize the data:\n",
    "X_train, y_train = np.array(X_train, dtype=np.float) , np.array(y_train)\n",
    "X_train = (X_train - 128) / 128\n",
    "X_valid, y_valid = np.array(X_valid, dtype=np.float) , np.array(y_valid)\n",
    "X_valid = (X_valid - 128) / 128\n",
    "X_test, y_test = np.array(X_test, dtype=np.float) , np.array(y_test)\n",
    "X_test = (X_test - 128) / 128\n",
    "    \n",
    "# shuffling the training data\n",
    "X_train, y_train = shuffle(X_train, y_train)\n"
   ]
  },
  {
   "cell_type": "markdown",
   "metadata": {},
   "source": [
    "### Model Architecture"
   ]
  },
  {
   "cell_type": "code",
   "execution_count": 271,
   "metadata": {},
   "outputs": [],
   "source": [
    "from tensorflow.compat.v1.layers import flatten\n",
    "import tensorflow.compat.v1 as tf\n",
    "tf.disable_v2_behavior()\n",
    "\n",
    "def LeNet(x):    \n",
    "    # Arguments used for tf.truncated_normal, randomly defines variables for the weights and biases for each layer\n",
    "    mu = 0\n",
    "    sigma = 0.1\n",
    "    \n",
    "    # Layer 1: Convolutional. Input = 32x32x3. Output = 28x28x6.\n",
    "    conv1_W = tf.Variable(tf.truncated_normal(shape=(5, 5, 3, 6), mean = mu, stddev = sigma))\n",
    "    conv1_b = tf.Variable(tf.zeros(6))\n",
    "    conv1   = tf.nn.conv2d(x, conv1_W, strides=[1, 1, 1, 1], padding='VALID') + conv1_b\n",
    "\n",
    "    # Activation.\n",
    "    conv1 = tf.nn.relu(conv1, name='conv_layer_1')\n",
    "\n",
    "    # Pooling. Input = 28x28x6. Output = 14x14x6.\n",
    "    conv1 = tf.nn.max_pool(conv1, ksize=[1, 2, 2, 1], strides=[1, 2, 2, 1], padding='VALID')\n",
    "\n",
    "    # Layer 2: Convolutional. Output = 10x10x16.\n",
    "    conv2_W = tf.Variable(tf.truncated_normal(shape=(5, 5, 6, 16), mean = mu, stddev = sigma))\n",
    "    conv2_b = tf.Variable(tf.zeros(16))\n",
    "    conv2   = tf.nn.conv2d(conv1, conv2_W, strides=[1, 1, 1, 1], padding='VALID') + conv2_b\n",
    "    # Activation.\n",
    "    conv2 = tf.nn.relu(conv2)\n",
    "    \n",
    "    # Pooling. Input = 10x10x16. Output = 5x5x16.\n",
    "    conv2 = tf.nn.max_pool(conv2, ksize=[1, 2, 2, 1], strides=[1, 2, 2, 1], padding='VALID')\n",
    "\n",
    "    #Layer 3: Convolutional. Output = 3x3x32.\n",
    "    conv3_W = tf.Variable(tf.truncated_normal(shape=(3, 3, 16, 64), mean = mu, stddev = sigma))\n",
    "    conv3_b = tf.Variable(tf.zeros(64))\n",
    "    conv3   = tf.nn.conv2d(conv2, conv3_W, strides=[1, 1, 1, 1], padding='VALID') + conv3_b\n",
    "    \n",
    "    # Activation.\n",
    "    conv3 = tf.nn.relu(conv3)\n",
    "    \n",
    "    # Pooling. Input = 10x10x16. Output = 5x5x32.\n",
    "    conv3 = tf.nn.max_pool(conv3, ksize=[1, 1, 1, 1], strides=[1, 1, 1, 1], padding='VALID')\n",
    "\n",
    "    # Flatten. Input = 6x6x16. Output = 400.\n",
    "    fc0   = flatten(conv3)\n",
    "\n",
    "    # Layer 3: Fully Connected. Input = 400. Output = 120.\n",
    "    fc1_W = tf.Variable(tf.truncated_normal(shape=(3*3*64, 120), mean = mu, stddev = sigma))\n",
    "    fc1_b = tf.Variable(tf.zeros(120))\n",
    "    fc1   = tf.matmul(fc0, fc1_W) + fc1_b\n",
    "    \n",
    "    # Activation.\n",
    "    fc1    = tf.nn.relu(fc1)\n",
    "\n",
    "    # Layer 4: Fully Connected. Input = 120. Output = 84.\n",
    "    fc2_W  = tf.Variable(tf.truncated_normal(shape=(120, 84), mean = mu, stddev = sigma))\n",
    "    fc2_b  = tf.Variable(tf.zeros(84))\n",
    "    fc2    = tf.matmul(fc1, fc2_W) + fc2_b\n",
    "    \n",
    "    # Activation.\n",
    "    fc2    = tf.nn.relu(fc2)\n",
    "\n",
    "    # Layer 5: Fully Connected. Input = 84. Output = 43.\n",
    "    fc3_W  = tf.Variable(tf.truncated_normal(shape=(84, n_classes), mean = mu, stddev = sigma))\n",
    "    fc3_b  = tf.Variable(tf.zeros(n_classes))\n",
    "    logits = tf.matmul(fc2, fc3_W) + fc3_b\n",
    "    \n",
    "    return logits"
   ]
  },
  {
   "cell_type": "markdown",
   "metadata": {},
   "source": [
    "### Train, Validate and Test the Model"
   ]
  },
  {
   "cell_type": "markdown",
   "metadata": {},
   "source": [
    "A validation set can be used to assess how well the model is performing. A low accuracy on the training and validation\n",
    "sets imply underfitting. A high accuracy on the training set but low accuracy on the validation set implies overfitting."
   ]
  },
  {
   "cell_type": "code",
   "execution_count": 274,
   "metadata": {
    "scrolled": false
   },
   "outputs": [],
   "source": [
    "import tensorflow.compat.v1 as tf\n",
    "tf.disable_v2_behavior()\n",
    "\n",
    "\n",
    "EPOCHS = 100\n",
    "BATCH_SIZE = 128\n",
    "\n",
    "### Train your model here.\n",
    "### Calculate and report the accuracy on the training and validation set.\n",
    "### Once a final model architecture is selected, \n",
    "### the accuracy on the test set should be calculated and reported as well.\n",
    "### Feel free to use as many code cells as needed.\n",
    "x = tf.placeholder(tf.float32, (None, 32, 32, 3))\n",
    "y = tf.placeholder(tf.int32, (None))\n",
    "one_hot_y = tf.one_hot(y, n_classes)\n",
    "\n",
    "rate = 0.001\n",
    "\n",
    "logits = LeNet(x)\n",
    "cross_entropy = tf.nn.softmax_cross_entropy_with_logits(labels=one_hot_y, logits=logits)\n",
    "loss_operation = tf.reduce_mean(cross_entropy)\n",
    "optimizer = tf.train.AdamOptimizer(learning_rate = rate)\n",
    "training_operation = optimizer.minimize(loss_operation)\n",
    "\n",
    "correct_prediction = tf.equal(tf.argmax(logits, 1), tf.argmax(one_hot_y, 1))\n",
    "accuracy_operation = tf.reduce_mean(tf.cast(correct_prediction, tf.float32))\n",
    "saver = tf.train.Saver()\n",
    "\n"
   ]
  },
  {
   "cell_type": "code",
   "execution_count": 275,
   "metadata": {},
   "outputs": [],
   "source": [
    "def evaluate(X_data, y_data):\n",
    "    num_examples = len(X_data)\n",
    "    #print(\"LENGTH OF DATA\", num_examples)\n",
    "    total_accuracy = 0\n",
    "    sess = tf.get_default_session()\n",
    "    for offset in range(0, num_examples, BATCH_SIZE):\n",
    "        batch_x, batch_y = X_data[offset:offset+BATCH_SIZE], y_data[offset:offset+BATCH_SIZE]\n",
    "        #print(\"images :\", batch_x, \"labes:\", batch_y)\n",
    "        accuracy = sess.run(accuracy_operation, feed_dict={x: batch_x, y: batch_y})\n",
    "        #print(\"ACCURACY OF GIVEN BATCH:\", accuracy)\n",
    "        #print(\"LENGTH, Batch Correct label:\", len(batch_y))\n",
    "        total_accuracy += (accuracy * len(batch_x))\n",
    "        #print(\"Batch Total Accuracy\", total_accuracy)\n",
    "    return total_accuracy / num_examples"
   ]
  },
  {
   "cell_type": "code",
   "execution_count": 276,
   "metadata": {},
   "outputs": [
    {
     "name": "stdout",
     "output_type": "stream",
     "text": [
      "Training for  100  epochs ...\n",
      "\n",
      "EPOCH 1 ...\n",
      "Validation Accuracy = 0.813\n",
      "\n",
      "EPOCH 2 ...\n",
      "Validation Accuracy = 0.880\n",
      "\n",
      "EPOCH 3 ...\n",
      "Validation Accuracy = 0.911\n",
      "\n",
      "EPOCH 4 ...\n",
      "Validation Accuracy = 0.902\n",
      "\n",
      "EPOCH 5 ...\n",
      "Validation Accuracy = 0.924\n",
      "\n",
      "EPOCH 6 ...\n",
      "Validation Accuracy = 0.924\n",
      "\n",
      "EPOCH 7 ...\n",
      "Validation Accuracy = 0.932\n",
      "\n",
      "EPOCH 8 ...\n",
      "Validation Accuracy = 0.930\n",
      "\n",
      "EPOCH 9 ...\n",
      "Validation Accuracy = 0.939\n",
      "\n",
      "EPOCH 10 ...\n",
      "Validation Accuracy = 0.928\n",
      "\n",
      "EPOCH 11 ...\n",
      "Validation Accuracy = 0.933\n",
      "\n",
      "EPOCH 12 ...\n",
      "Validation Accuracy = 0.942\n",
      "\n",
      "EPOCH 13 ...\n",
      "Validation Accuracy = 0.938\n",
      "\n",
      "EPOCH 14 ...\n",
      "Validation Accuracy = 0.927\n",
      "\n",
      "EPOCH 15 ...\n",
      "Validation Accuracy = 0.936\n",
      "\n",
      "EPOCH 16 ...\n",
      "Validation Accuracy = 0.926\n",
      "\n",
      "EPOCH 17 ...\n",
      "Validation Accuracy = 0.920\n",
      "\n",
      "EPOCH 18 ...\n",
      "Validation Accuracy = 0.930\n",
      "\n",
      "EPOCH 19 ...\n",
      "Validation Accuracy = 0.946\n",
      "\n",
      "EPOCH 20 ...\n",
      "Validation Accuracy = 0.939\n",
      "\n",
      "EPOCH 21 ...\n",
      "Validation Accuracy = 0.919\n",
      "\n",
      "EPOCH 22 ...\n",
      "Validation Accuracy = 0.946\n",
      "\n",
      "EPOCH 23 ...\n",
      "Validation Accuracy = 0.939\n",
      "\n",
      "EPOCH 24 ...\n",
      "Validation Accuracy = 0.944\n",
      "\n",
      "EPOCH 25 ...\n",
      "Validation Accuracy = 0.926\n",
      "\n",
      "EPOCH 26 ...\n",
      "Validation Accuracy = 0.942\n",
      "\n",
      "EPOCH 27 ...\n",
      "Validation Accuracy = 0.946\n",
      "\n",
      "EPOCH 28 ...\n",
      "Validation Accuracy = 0.937\n",
      "\n",
      "EPOCH 29 ...\n",
      "Validation Accuracy = 0.942\n",
      "\n",
      "EPOCH 30 ...\n",
      "Validation Accuracy = 0.950\n",
      "\n",
      "EPOCH 31 ...\n",
      "Validation Accuracy = 0.952\n",
      "\n",
      "EPOCH 32 ...\n",
      "Validation Accuracy = 0.937\n",
      "\n",
      "EPOCH 33 ...\n",
      "Validation Accuracy = 0.942\n",
      "\n",
      "EPOCH 34 ...\n",
      "Validation Accuracy = 0.941\n",
      "\n",
      "EPOCH 35 ...\n",
      "Validation Accuracy = 0.934\n",
      "\n",
      "EPOCH 36 ...\n",
      "Validation Accuracy = 0.940\n",
      "\n",
      "EPOCH 37 ...\n",
      "Validation Accuracy = 0.956\n",
      "\n",
      "EPOCH 38 ...\n",
      "Validation Accuracy = 0.941\n",
      "\n",
      "EPOCH 39 ...\n",
      "Validation Accuracy = 0.942\n",
      "\n",
      "EPOCH 40 ...\n",
      "Validation Accuracy = 0.945\n",
      "\n",
      "EPOCH 41 ...\n",
      "Validation Accuracy = 0.951\n",
      "\n",
      "EPOCH 42 ...\n",
      "Validation Accuracy = 0.954\n",
      "\n",
      "EPOCH 43 ...\n",
      "Validation Accuracy = 0.956\n",
      "\n",
      "EPOCH 44 ...\n",
      "Validation Accuracy = 0.966\n",
      "\n",
      "EPOCH 45 ...\n",
      "Validation Accuracy = 0.963\n",
      "\n",
      "EPOCH 46 ...\n",
      "Validation Accuracy = 0.965\n",
      "\n",
      "EPOCH 47 ...\n",
      "Validation Accuracy = 0.964\n",
      "\n",
      "EPOCH 48 ...\n",
      "Validation Accuracy = 0.965\n",
      "\n",
      "EPOCH 49 ...\n",
      "Validation Accuracy = 0.964\n",
      "\n",
      "EPOCH 50 ...\n",
      "Validation Accuracy = 0.965\n",
      "\n",
      "EPOCH 51 ...\n",
      "Validation Accuracy = 0.965\n",
      "\n",
      "EPOCH 52 ...\n",
      "Validation Accuracy = 0.965\n",
      "\n",
      "EPOCH 53 ...\n",
      "Validation Accuracy = 0.965\n",
      "\n",
      "EPOCH 54 ...\n",
      "Validation Accuracy = 0.964\n",
      "\n",
      "EPOCH 55 ...\n",
      "Validation Accuracy = 0.965\n",
      "\n",
      "EPOCH 56 ...\n",
      "Validation Accuracy = 0.964\n",
      "\n",
      "EPOCH 57 ...\n",
      "Validation Accuracy = 0.964\n",
      "\n",
      "EPOCH 58 ...\n",
      "Validation Accuracy = 0.965\n",
      "\n",
      "EPOCH 59 ...\n",
      "Validation Accuracy = 0.964\n",
      "\n",
      "EPOCH 60 ...\n",
      "Validation Accuracy = 0.964\n",
      "\n",
      "EPOCH 61 ...\n",
      "Validation Accuracy = 0.965\n",
      "\n",
      "EPOCH 62 ...\n",
      "Validation Accuracy = 0.966\n",
      "\n",
      "EPOCH 63 ...\n",
      "Validation Accuracy = 0.964\n",
      "\n",
      "EPOCH 64 ...\n",
      "Validation Accuracy = 0.964\n",
      "\n",
      "EPOCH 65 ...\n",
      "Validation Accuracy = 0.965\n",
      "\n",
      "EPOCH 66 ...\n",
      "Validation Accuracy = 0.964\n",
      "\n",
      "EPOCH 67 ...\n",
      "Validation Accuracy = 0.964\n",
      "\n",
      "EPOCH 68 ...\n",
      "Validation Accuracy = 0.965\n",
      "\n",
      "EPOCH 69 ...\n",
      "Validation Accuracy = 0.965\n",
      "\n",
      "EPOCH 70 ...\n",
      "Validation Accuracy = 0.965\n",
      "\n",
      "EPOCH 71 ...\n",
      "Validation Accuracy = 0.964\n",
      "\n",
      "EPOCH 72 ...\n",
      "Validation Accuracy = 0.965\n",
      "\n",
      "EPOCH 73 ...\n",
      "Validation Accuracy = 0.964\n",
      "\n",
      "EPOCH 74 ...\n",
      "Validation Accuracy = 0.964\n",
      "\n",
      "EPOCH 75 ...\n",
      "Validation Accuracy = 0.964\n",
      "\n",
      "EPOCH 76 ...\n",
      "Validation Accuracy = 0.964\n",
      "\n",
      "EPOCH 77 ...\n",
      "Validation Accuracy = 0.964\n",
      "\n",
      "EPOCH 78 ...\n",
      "Validation Accuracy = 0.963\n",
      "\n",
      "EPOCH 79 ...\n",
      "Validation Accuracy = 0.963\n",
      "\n",
      "EPOCH 80 ...\n",
      "Validation Accuracy = 0.963\n",
      "\n",
      "EPOCH 81 ...\n",
      "Validation Accuracy = 0.963\n",
      "\n",
      "EPOCH 82 ...\n",
      "Validation Accuracy = 0.963\n",
      "\n",
      "EPOCH 83 ...\n",
      "Validation Accuracy = 0.962\n",
      "\n",
      "EPOCH 84 ...\n",
      "Validation Accuracy = 0.963\n",
      "\n",
      "EPOCH 85 ...\n",
      "Validation Accuracy = 0.963\n",
      "\n",
      "EPOCH 86 ...\n",
      "Validation Accuracy = 0.963\n",
      "\n",
      "EPOCH 87 ...\n",
      "Validation Accuracy = 0.962\n",
      "\n",
      "EPOCH 88 ...\n",
      "Validation Accuracy = 0.963\n",
      "\n",
      "EPOCH 89 ...\n",
      "Validation Accuracy = 0.962\n",
      "\n",
      "EPOCH 90 ...\n",
      "Validation Accuracy = 0.962\n",
      "\n",
      "EPOCH 91 ...\n",
      "Validation Accuracy = 0.963\n",
      "\n",
      "EPOCH 92 ...\n",
      "Validation Accuracy = 0.961\n",
      "\n",
      "EPOCH 93 ...\n",
      "Validation Accuracy = 0.962\n",
      "\n",
      "EPOCH 94 ...\n",
      "Validation Accuracy = 0.962\n",
      "\n",
      "EPOCH 95 ...\n",
      "Validation Accuracy = 0.961\n",
      "\n",
      "EPOCH 96 ...\n",
      "Validation Accuracy = 0.961\n",
      "\n",
      "EPOCH 97 ...\n",
      "Validation Accuracy = 0.962\n",
      "\n",
      "EPOCH 98 ...\n",
      "Validation Accuracy = 0.962\n",
      "\n",
      "EPOCH 99 ...\n",
      "Validation Accuracy = 0.963\n",
      "\n",
      "EPOCH 100 ...\n",
      "Validation Accuracy = 0.961\n",
      "\n",
      "Model saved\n"
     ]
    }
   ],
   "source": [
    "with tf.Session() as sess:\n",
    "    sess.run(tf.global_variables_initializer())\n",
    "    num_examples = len(X_train)\n",
    "    \n",
    "    validation_acc_ep = []\n",
    "    training_acc_ep = []\n",
    "    test_acc_ep = []\n",
    "    \n",
    "    epochs_array = []\n",
    "    print(\"Training for \", EPOCHS, \" epochs ...\")\n",
    "    print()\n",
    "     \n",
    "    for i in range(EPOCHS):\n",
    "        X_train, y_train = shuffle(X_train, y_train)\n",
    "        for offset in range(0, num_examples, BATCH_SIZE):\n",
    "            end = offset + BATCH_SIZE\n",
    "            batch_x, batch_y = X_train[offset:end], y_train[offset:end]\n",
    "            sess.run(training_operation, feed_dict={x: batch_x, y: batch_y})\n",
    "            \n",
    "        validation_accuracy = evaluate(X_valid, y_valid)\n",
    "        validation_acc_ep.append(validation_accuracy)\n",
    "        \n",
    "        training_accuracy = evaluate(X_train, y_train)\n",
    "        training_acc_ep.append(training_accuracy)\n",
    "        \n",
    "        test_accuracy = evaluate(X_test, y_test)\n",
    "        test_acc_ep.append(test_accuracy)\n",
    "        \n",
    "        epochs_array.append(i)\n",
    "        print(\"EPOCH {} ...\".format(i+1))\n",
    "        print(\"Validation Accuracy = {:.3f}\".format(validation_accuracy))\n",
    "        print()\n",
    "    saver.save(sess, './lenet')\n",
    "    print(\"Model saved\")"
   ]
  },
  {
   "cell_type": "code",
   "execution_count": 283,
   "metadata": {},
   "outputs": [
    {
     "name": "stdout",
     "output_type": "stream",
     "text": [
      "INFO:tensorflow:Restoring parameters from ./lenet\n",
      "Test Accuracy = 0.941\n",
      "Test Accuracy = 1.000\n"
     ]
    },
    {
     "data": {
      "image/png": "[encoded data removed]",
      "text/plain": [
       "<Figure size 432x288 with 1 Axes>"
      ]
     },
     "metadata": {
      "needs_background": "light"
     },
     "output_type": "display_data"
    }
   ],
   "source": [
    "with tf.Session() as sess:\n",
    "    saver.restore(sess, tf.train.latest_checkpoint('.'))\n",
    "\n",
    "    test_accuracy = evaluate(X_test, y_test)\n",
    "    print(\"Test Accuracy = {:.3f}\".format(test_accuracy))\n",
    "# Plot the training and validation accuracies\n",
    "plt.plot(epochs_array, training_acc_ep, 'b')\n",
    "plt.plot(epochs_array, validation_acc_ep, 'r')\n",
    "plt.plot(epochs_array, test_acc_ep, 'g')\n",
    "print(\"Test Accuracy = {:.3f}\".format(training_accuracy))"
   ]
  },
  {
   "cell_type": "code",
   "execution_count": 278,
   "metadata": {
    "scrolled": true
   },
   "outputs": [
    {
     "name": "stdout",
     "output_type": "stream",
     "text": [
      "INFO:tensorflow:Restoring parameters from ./lenet\n",
      "Test Accuracy = 0.941\n"
     ]
    }
   ],
   "source": [
    "with tf.Session() as sess:\n",
    "    saver.restore(sess, tf.train.latest_checkpoint('.'))\n",
    "\n",
    "    test_accuracy = evaluate(X_test, y_test)\n",
    "    print(\"Test Accuracy = {:.3f}\".format(test_accuracy))"
   ]
  },
  {
   "cell_type": "markdown",
   "metadata": {},
   "source": [
    "---\n",
    "\n",
    "## Step 3: Test a Model on New Images\n",
    "\n",
    "To give yourself more insight into how your model is working, download at least five pictures of German traffic signs from the web and use your model to predict the traffic sign type.\n",
    "\n",
    "You may find `signnames.csv` useful as it contains mappings from the class id (integer) to the actual sign name."
   ]
  },
  {
   "cell_type": "markdown",
   "metadata": {},
   "source": [
    "### Load and Output the Images"
   ]
  },
  {
   "cell_type": "code",
   "execution_count": 284,
   "metadata": {},
   "outputs": [
    {
     "name": "stdout",
     "output_type": "stream",
     "text": [
      "Network will be tested on the following examples collected on the web:\n"
     ]
    },
    {
     "data": {
      "text/plain": [
       "<Figure size 72x72 with 0 Axes>"
      ]
     },
     "metadata": {},
     "output_type": "display_data"
    },
    {
     "data": {
      "image/png": "[encoded data removed]",
      "text/plain": [
       "<Figure size 1080x1080 with 5 Axes>"
      ]
     },
     "metadata": {
      "needs_background": "light"
     },
     "output_type": "display_data"
    }
   ],
   "source": [
    "import cv2\n",
    "import os\n",
    "import tensorflow.compat.v1 as tf\n",
    "tf.disable_v2_behavior()\n",
    "import pandas as pd\n",
    "import csv\n",
    "#signnames = 'signnames.csv'\n",
    "#signnames =csv.reader(signnames)\n",
    "\n",
    "### Load the images and plot them here.\n",
    "plt.figure(figsize=(1,1))\n",
    "\n",
    "### Load the images and plot them here.\n",
    "#plt.figure(figsize=(1,1))\n",
    "test_images_un = []\n",
    "for filename in os.listdir('test_signs/'):\n",
    "    if filename.endswith(\".png\"):\n",
    "        img = cv2.cvtColor(cv2.imread('test_signs/'+ filename), cv2.COLOR_BGR2RGB)\n",
    "        img = cv2.resize(img, (32,32), interpolation = cv2.INTER_AREA) \n",
    "        test_images_un.append(img)\n",
    "correct_labels = np.array([2, 1, 23, 14, 5])\n",
    "one_hot_labels = tf.one_hot(correct_labels, 43)\n",
    "plt.figure(figsize=(15,15))\n",
    "print('Network will be tested on the following examples collected on the web:')\n",
    "\n",
    "for i in range(0,len(test_images_un)):\n",
    "    plt.subplot(1, len(test_images_un), i+1)\n",
    "    plt.imshow(test_images_un[i])\n",
    "    plt.title(sign_dict[str(correct_labels[i])])\n",
    "\n",
    "    \n"
   ]
  },
  {
   "cell_type": "code",
   "execution_count": 285,
   "metadata": {},
   "outputs": [],
   "source": [
    "# Normalize the data\n",
    "test_images, correct_labels = np.array(test_images_un, dtype=np.float32) , np.array(correct_labels)\n",
    "test_images = (test_images - 128) / 128\n",
    "    "
   ]
  },
  {
   "cell_type": "markdown",
   "metadata": {},
   "source": [
    "### Predict the Sign Type for Each Image"
   ]
  },
  {
   "cell_type": "code",
   "execution_count": 286,
   "metadata": {},
   "outputs": [
    {
     "name": "stdout",
     "output_type": "stream",
     "text": [
      "INFO:tensorflow:Restoring parameters from ./lenet\n",
      "INFO:tensorflow:Restoring parameters from ./lenet\n",
      "Test Accuracy = 1.000\n",
      "Accuracy of my network for the new data:  1.0\n"
     ]
    }
   ],
   "source": [
    "### Run the predictions here and use the model to output the prediction for each image.\n",
    "#predictions = LeNet(np.array(test_images, dtype=np.float32))\n",
    "### Make sure to pre-process the images with the same pre-processing pipeline used earlier.\n",
    "### Feel free to use as many code cells as needed.\n",
    "with tf.Session() as sess:\n",
    "    sess.run(tf.global_variables_initializer())\n",
    "    saver.restore(sess, tf.train.latest_checkpoint('.'))\n",
    "    saver.restore(sess, \"./lenet\")\n",
    "    test_accuracy = evaluate(test_images, correct_labels)\n",
    "    print(\"Test Accuracy = {:.3f}\".format(test_accuracy))\n",
    "print(\"Accuracy of my network for the new data: \", test_accuracy)"
   ]
  },
  {
   "cell_type": "markdown",
   "metadata": {},
   "source": [
    "### Analyze Performance"
   ]
  },
  {
   "cell_type": "code",
   "execution_count": 287,
   "metadata": {
    "scrolled": false
   },
   "outputs": [
    {
     "name": "stdout",
     "output_type": "stream",
     "text": [
      "INFO:tensorflow:Restoring parameters from ./lenet\n",
      "INFO:tensorflow:Restoring parameters from ./lenet\n"
     ]
    },
    {
     "name": "stderr",
     "output_type": "stream",
     "text": [
      "Clipping input data to the valid range for imshow with RGB data ([0..1] for floats or [0..255] for integers).\n"
     ]
    },
    {
     "name": "stdout",
     "output_type": "stream",
     "text": [
      "Guess for the following image:\n"
     ]
    },
    {
     "data": {
      "image/png": "[encoded data removed]",
      "text/plain": [
       "<Figure size 432x288 with 1 Axes>"
      ]
     },
     "metadata": {
      "needs_background": "light"
     },
     "output_type": "display_data"
    },
    {
     "name": "stdout",
     "output_type": "stream",
     "text": [
      "1. Guess: Class  2 Speed limit (50km/h) with probability:  100.0000  %\n",
      "2. Guess: Class  1 Speed limit (30km/h) with probability:    0.0000  %\n",
      "3. Guess: Class  31 Wild animals crossing with probability:    0.0000  %\n",
      "4. Guess: Class  0 Speed limit (20km/h) with probability:    0.0000  %\n",
      "5. Guess: Class  3 Speed limit (60km/h) with probability:    0.0000  %\n",
      "INFO:tensorflow:Restoring parameters from ./lenet\n",
      "INFO:tensorflow:Restoring parameters from ./lenet\n"
     ]
    },
    {
     "name": "stderr",
     "output_type": "stream",
     "text": [
      "Clipping input data to the valid range for imshow with RGB data ([0..1] for floats or [0..255] for integers).\n"
     ]
    },
    {
     "name": "stdout",
     "output_type": "stream",
     "text": [
      "Guess for the following image:\n"
     ]
    },
    {
     "data": {
      "image/png": "[encoded data removed]",
      "text/plain": [
       "<Figure size 432x288 with 1 Axes>"
      ]
     },
     "metadata": {
      "needs_background": "light"
     },
     "output_type": "display_data"
    },
    {
     "name": "stdout",
     "output_type": "stream",
     "text": [
      "1. Guess: Class  1 Speed limit (30km/h) with probability:  100.0000  %\n",
      "2. Guess: Class  0 Speed limit (20km/h) with probability:    0.0000  %\n",
      "3. Guess: Class  2 Speed limit (50km/h) with probability:    0.0000  %\n",
      "4. Guess: Class  5 Speed limit (80km/h) with probability:    0.0000  %\n",
      "5. Guess: Class  4 Speed limit (70km/h) with probability:    0.0000  %\n",
      "INFO:tensorflow:Restoring parameters from ./lenet\n",
      "INFO:tensorflow:Restoring parameters from ./lenet\n"
     ]
    },
    {
     "name": "stderr",
     "output_type": "stream",
     "text": [
      "Clipping input data to the valid range for imshow with RGB data ([0..1] for floats or [0..255] for integers).\n"
     ]
    },
    {
     "name": "stdout",
     "output_type": "stream",
     "text": [
      "Guess for the following image:\n"
     ]
    },
    {
     "data": {
      "image/png": "[encoded data removed]",
      "text/plain": [
       "<Figure size 432x288 with 1 Axes>"
      ]
     },
     "metadata": {
      "needs_background": "light"
     },
     "output_type": "display_data"
    },
    {
     "name": "stdout",
     "output_type": "stream",
     "text": [
      "1. Guess: Class  23 Slippery road with probability:  100.0000  %\n",
      "2. Guess: Class  19 Dangerous curve to the left with probability:    0.0000  %\n",
      "3. Guess: Class  0 Speed limit (20km/h) with probability:    0.0000  %\n",
      "4. Guess: Class  1 Speed limit (30km/h) with probability:    0.0000  %\n",
      "5. Guess: Class  2 Speed limit (50km/h) with probability:    0.0000  %\n",
      "INFO:tensorflow:Restoring parameters from ./lenet\n",
      "INFO:tensorflow:Restoring parameters from ./lenet\n"
     ]
    },
    {
     "name": "stderr",
     "output_type": "stream",
     "text": [
      "Clipping input data to the valid range for imshow with RGB data ([0..1] for floats or [0..255] for integers).\n"
     ]
    },
    {
     "name": "stdout",
     "output_type": "stream",
     "text": [
      "Guess for the following image:\n"
     ]
    },
    {
     "data": {
      "image/png": "[encoded data removed]",
      "text/plain": [
       "<Figure size 432x288 with 1 Axes>"
      ]
     },
     "metadata": {
      "needs_background": "light"
     },
     "output_type": "display_data"
    },
    {
     "name": "stdout",
     "output_type": "stream",
     "text": [
      "1. Guess: Class  14 Stop with probability:  100.0000  %\n",
      "2. Guess: Class  3 Speed limit (60km/h) with probability:    0.0000  %\n",
      "3. Guess: Class  5 Speed limit (80km/h) with probability:    0.0000  %\n",
      "4. Guess: Class  25 Road work with probability:    0.0000  %\n",
      "5. Guess: Class  29 Bicycles crossing with probability:    0.0000  %\n",
      "INFO:tensorflow:Restoring parameters from ./lenet\n",
      "INFO:tensorflow:Restoring parameters from ./lenet\n"
     ]
    },
    {
     "name": "stderr",
     "output_type": "stream",
     "text": [
      "Clipping input data to the valid range for imshow with RGB data ([0..1] for floats or [0..255] for integers).\n"
     ]
    },
    {
     "name": "stdout",
     "output_type": "stream",
     "text": [
      "Guess for the following image:\n"
     ]
    },
    {
     "data": {
      "image/png": "[encoded data removed]",
      "text/plain": [
       "<Figure size 432x288 with 1 Axes>"
      ]
     },
     "metadata": {
      "needs_background": "light"
     },
     "output_type": "display_data"
    },
    {
     "name": "stdout",
     "output_type": "stream",
     "text": [
      "1. Guess: Class  5 Speed limit (80km/h) with probability:   99.9870  %\n",
      "2. Guess: Class  2 Speed limit (50km/h) with probability:    0.0130  %\n",
      "3. Guess: Class  7 Speed limit (100km/h) with probability:    0.0000  %\n",
      "4. Guess: Class  3 Speed limit (60km/h) with probability:    0.0000  %\n",
      "5. Guess: Class  15 No vehicles with probability:    0.0000  %\n"
     ]
    }
   ],
   "source": [
    "# show top five guesses\n",
    "k = 5\n",
    "softmax_test = tf.nn.softmax(logits)\n",
    "top_k_classes = tf.nn.top_k(softmax_test, k)\n",
    "\n",
    "for i in range(len(test_images)):\n",
    "    image = test_images[i]\n",
    "    with tf.Session() as sess:\n",
    "        sess.run(tf.global_variables_initializer())\n",
    "        saver.restore(sess, tf.train.latest_checkpoint('.'))\n",
    "        saver.restore(sess, \"./lenet\")\n",
    "        softmax_logits = sess.run(softmax_test, feed_dict={x: np.array([image])})\n",
    "        top_classes = sess.run(top_k_classes, feed_dict={x: np.array([image])})\n",
    "        #print(\"Softmax Logits\", softmax_logits)\n",
    "        print(\"Guess for the following image:\")\n",
    "        plt.imshow(image)\n",
    "        plt.show()\n",
    "\n",
    "        top_k_indicies = top_classes.indices[0]\n",
    "        top_k_values = top_classes.values[0]\n",
    "        # print the top k classes\n",
    "        for j in range(k):\n",
    "            print(str(j + 1) + \". Guess:\", \"Class \", top_k_indicies[j], sign_dict[str(top_k_indicies[j])], \"with probability:{:10.4f} \".format( 100 * top_k_values[j]),\"%\")"
   ]
  },
  {
   "cell_type": "code",
   "execution_count": null,
   "metadata": {},
   "outputs": [],
   "source": []
  }
 ],
 "metadata": {
  "anaconda-cloud": {},
  "kernelspec": {
   "display_name": "Python 3",
   "language": "python",
   "name": "python3"
  },
  "language_info": {
   "codemirror_mode": {
    "name": "ipython",
    "version": 3
   },
   "file_extension": ".py",
   "mimetype": "text/x-python",
   "name": "python",
   "nbconvert_exporter": "python",
   "pygments_lexer": "ipython3",
   "version": "3.6.11"
  }
 },
 "nbformat": 4,
 "nbformat_minor": 1
}
